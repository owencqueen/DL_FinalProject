{
 "cells": [
  {
   "cell_type": "markdown",
   "metadata": {
    "id": "3l3iZ_KKvAHU"
   },
   "source": [
    "# Temporal Processing of Opioid Data\n",
    "This code runs the DCRNN and GCGRU temporal GNNs on the synthetic dataset. Please refer to the code comments and text blocks for information about how to run the code."
   ]
  },
  {
   "cell_type": "code",
   "execution_count": null,
   "metadata": {
    "colab": {
     "base_uri": "https://localhost:8080/"
    },
    "id": "QJF1jU7MtZVb",
    "outputId": "f1c094b6-1c4f-4af6-d04f-893df7c59135"
   },
   "outputs": [
    {
     "name": "stdout",
     "output_type": "stream",
     "text": [
      "\u001b[K     |████████████████████████████████| 2.6MB 23.2MB/s \n",
      "\u001b[K     |████████████████████████████████| 1.5MB 34.3MB/s \n",
      "\u001b[K     |████████████████████████████████| 1.0MB 34.0MB/s \n",
      "\u001b[K     |████████████████████████████████| 389kB 26.5MB/s \n",
      "\u001b[K     |████████████████████████████████| 215kB 17.5MB/s \n",
      "\u001b[K     |████████████████████████████████| 235kB 43.1MB/s \n",
      "\u001b[K     |████████████████████████████████| 2.2MB 49.9MB/s \n",
      "\u001b[K     |████████████████████████████████| 51kB 7.3MB/s \n",
      "\u001b[?25h  Building wheel for torch-geometric (setup.py) ... \u001b[?25l\u001b[?25hdone\n",
      "\u001b[K     |████████████████████████████████| 25.9MB 108kB/s \n",
      "\u001b[?25h  Building wheel for torch-geometric-temporal (setup.py) ... \u001b[?25l\u001b[?25hdone\n",
      "\u001b[31mERROR: albumentations 0.1.12 has requirement imgaug<0.2.7,>=0.2.5, but you'll have imgaug 0.2.9 which is incompatible.\u001b[0m\n"
     ]
    }
   ],
   "source": [
    "!pip install -q torch-scatter -f https://pytorch-geometric.com/whl/torch-1.8.0+cu101.html\n",
    "!pip install -q torch-sparse -f https://pytorch-geometric.com/whl/torch-1.8.0+cu101.html\n",
    "!pip install -q torch-cluster -f https://pytorch-geometric.com/whl/torch-1.8.0+cu101.html\n",
    "!pip install -q torch-spline-conv -f https://pytorch-geometric.com/whl/torch-1.8.0+cu101.html\n",
    "!pip install -q torch-geometric\n",
    "!pip install -q torch-geometric-temporal"
   ]
  },
  {
   "cell_type": "markdown",
   "metadata": {
    "id": "tqsbeSiTZuXG"
   },
   "source": [
    "Please note that we had particular trouble with installing Pytorch Geometric Temporal in Colab, so if you experience any issues with this, please reach out to us."
   ]
  },
  {
   "cell_type": "code",
   "execution_count": null,
   "metadata": {
    "id": "RHZYhs5KtrMR"
   },
   "outputs": [],
   "source": [
    "import torch\n",
    "import torch.nn.functional as F\n",
    "from torch_geometric_temporal.nn.recurrent import DCRNN\n",
    "\n",
    "from torch_geometric_temporal.dataset import ChickenpoxDatasetLoader\n",
    "from torch_geometric_temporal.signal import temporal_signal_split, DynamicGraphTemporalSignalBatch\n",
    "#from torch_geometric_temporal.nn.attention.stgcn import STConv\n",
    "\n",
    "import tqdm\n",
    "import numpy as np\n",
    "import pandas as pd\n",
    "import networkx as nx\n",
    "\n",
    "import pickle\n",
    "from collections import Counter\n",
    "\n",
    "from sklearn.metrics import r2_score\n",
    "from sklearn.model_selection import train_test_split"
   ]
  },
  {
   "cell_type": "code",
   "execution_count": null,
   "metadata": {
    "colab": {
     "base_uri": "https://localhost:8080/"
    },
    "id": "YyABpkPZuVZN",
    "outputId": "e7873999-1d29-457f-9974-d044d9220fd0"
   },
   "outputs": [
    {
     "name": "stdout",
     "output_type": "stream",
     "text": [
      "cuda:0\n"
     ]
    }
   ],
   "source": [
    "#Setting up GPU\n",
    "cuda = torch.cuda.is_available() \n",
    "if cuda:\n",
    "    device = torch.device('cuda:0') # Change device here \n",
    "else:\n",
    "    device = torch.device('cpu')\n",
    "    \n",
    "print(device)"
   ]
  },
  {
   "cell_type": "markdown",
   "metadata": {
    "id": "BlgQ9IDzcR1a"
   },
   "source": [
    "## Reading in Data\n",
    "The below blocks of code process the data for use in temporal networks. This is the process described in the report under the \"Code Design\" section. "
   ]
  },
  {
   "cell_type": "code",
   "execution_count": null,
   "metadata": {
    "id": "NdUY6cP-jgFH"
   },
   "outputs": [],
   "source": [
    "# Loads the pickle:\n",
    "nx_objects = pickle.load(open('../Data/net_1000.pickle', 'rb'))"
   ]
  },
  {
   "cell_type": "code",
   "execution_count": null,
   "metadata": {
    "id": "0g1pQ9_i5aXI"
   },
   "outputs": [],
   "source": [
    "# Loading data:\n",
    "group_to_onehot = {\n",
    "    'S': (1, 0, 0, 0, 0),\n",
    "    'P': (0, 1, 0, 0, 0),\n",
    "    'A': (0, 0, 1, 0, 0),\n",
    "    'H': (0, 0, 0, 1, 0),\n",
    "    'R': (0, 0, 0, 0, 1)\n",
    "}\n",
    "\n",
    "# Gets final proportions of individuals in the graph with a given group\n",
    "def get_ending_proportions(obj_list, group = 'H'):\n",
    "  prop_list = []\n",
    "  for i in range(len(obj_list)):\n",
    "    subl = obj_list[i]\n",
    "    group_last = nx.get_node_attributes(subl[-1], 'group')\n",
    "    group_count = dict(Counter(group_last.values()))\n",
    "    prop_list.append(group_count[group_to_onehot[group]] / subl[-1].number_of_nodes())\n",
    "  return prop_list\n",
    "    \n",
    "end_prop = get_ending_proportions(nx_objects)\n",
    "Y = end_prop # Set Y value (can be anything)"
   ]
  },
  {
   "cell_type": "code",
   "execution_count": null,
   "metadata": {
    "id": "ShecNtQU5665"
   },
   "outputs": [],
   "source": [
    "# Gets initial graphs:\n",
    "\n",
    "def conv_to_undirected(edges):\n",
    "  undirected_edges = list(edges)\n",
    "  for e in edges:\n",
    "    undirected_edges.append([e[1], e[0]])\n",
    "  return undirected_edges\n",
    "\n",
    "\n",
    "def get_X_times(top_tstep = 100):\n",
    "  '''\n",
    "  Gets the X for one network in a series\n",
    "  Arguments:\n",
    "  ----------\n",
    "  top_tstep: integer\n",
    "    - Includes all time steps from 0 to top bound\n",
    "  '''\n",
    "\n",
    "  X = []\n",
    "\n",
    "  for i in range(0, len(nx_objects)):\n",
    "    edge_indices = []\n",
    "    edge_weights = []\n",
    "    features = []\n",
    "\n",
    "    #total_time = len(nx_objects[i])\n",
    "    total_time = len(nx_objects[i]) if top_tstep is None else top_tstep\n",
    "\n",
    "    for tstep in range(total_time):\n",
    "      # Building edge index list:\n",
    "      edge_indices.append(np.array(conv_to_undirected(nx_objects[i][tstep].edges)).T)\n",
    "\n",
    "      # Set all edge weights to 1:\n",
    "      edge_weights.append(np.array([1] * (2 * len(nx_objects[i][tstep].edges))))\n",
    "\n",
    "      # Building features list:\n",
    "      node_attr = dict(nx.get_node_attributes(nx_objects[i][tstep], 'group'))\n",
    "      features.append(np.array([node_attr[i] for i in range(len(nx_objects[i][tstep].nodes))]))\n",
    "\n",
    "    # Set targets for this signal:\n",
    "    targets = [np.array(Y[i])] * total_time\n",
    "    \n",
    "    # Convert built lists to tensors:\n",
    "    batches = [None] * total_time\n",
    "\n",
    "    # Get signal\n",
    "    sig = DynamicGraphTemporalSignalBatch(\n",
    "        edge_indices = edge_indices,\n",
    "        edge_weights = edge_weights,\n",
    "        features = features,\n",
    "        targets = targets,\n",
    "        batches = batches\n",
    "    )\n",
    "\n",
    "    X.append(sig)\n",
    "\n",
    "  return X\n",
    "\n",
    "def train_val_split(X, val_split = 0.25):\n",
    "  train_ind, val_ind = train_test_split(list(range(len(X))), test_size = val_split)\n",
    "  train = [X[t] for t in train_ind]\n",
    "  val = [X[v] for v in val_ind]\n",
    "  return train, val"
   ]
  },
  {
   "cell_type": "code",
   "execution_count": null,
   "metadata": {
    "colab": {
     "base_uri": "https://localhost:8080/"
    },
    "id": "Y-vmdP7N5MqH",
    "outputId": "2e98e9d7-cd0f-4ae6-d577-9301b8482867"
   },
   "outputs": [
    {
     "name": "stdout",
     "output_type": "stream",
     "text": [
      "(2, 1326)\n"
     ]
    }
   ],
   "source": [
    "edges = np.array(conv_to_undirected(nx_objects[0][0].edges)).T\n",
    "print(edges.shape)"
   ]
  },
  {
   "cell_type": "code",
   "execution_count": null,
   "metadata": {
    "colab": {
     "base_uri": "https://localhost:8080/"
    },
    "id": "0nag0zuX6Mv2",
    "outputId": "677577da-d84b-45d4-b2e3-bcc428231e94"
   },
   "outputs": [
    {
     "name": "stdout",
     "output_type": "stream",
     "text": [
      "Number of samples 1000\n"
     ]
    }
   ],
   "source": [
    "top_tstep = 50 # Vary the time step hyperparameter HERE\n",
    "\n",
    "full_dataset = get_X_times(top_tstep)\n",
    "\n",
    "print('Number of samples', len(full_dataset))\n",
    "\n",
    "train_dataset, val_dataset = train_val_split(full_dataset, val_split = 0.25)"
   ]
  },
  {
   "cell_type": "markdown",
   "metadata": {
    "id": "Xe_fbsgibyon"
   },
   "source": [
    "## Model Archictectures\n",
    "In the below blocks, we define the temporal GNN archictectures that we will train and test. Please reference the report for descriptions of these models"
   ]
  },
  {
   "cell_type": "code",
   "execution_count": null,
   "metadata": {
    "id": "8gIJWof_uiOw"
   },
   "outputs": [],
   "source": [
    "# DCRNN with 1 layer\n",
    "class RecurrentGCN(torch.nn.Module):\n",
    "  def __init__(self, node_features):\n",
    "    super(RecurrentGCN, self).__init__()\n",
    "    self.recurrent = DCRNN(node_features, 32, 1)\n",
    "    self.linear = torch.nn.Linear(32, 1)\n",
    "\n",
    "  def forward(self, x, edge_index, edge_weight):\n",
    "    h = self.recurrent(x, edge_index, edge_weight)\n",
    "    h = F.relu(h)\n",
    "    h = self.linear(h)\n",
    "    return h"
   ]
  },
  {
   "cell_type": "code",
   "execution_count": null,
   "metadata": {
    "id": "3wnLn-ear1go"
   },
   "outputs": [],
   "source": [
    "# DCRNN with 2 layer\n",
    "class RecurrentGCN2(torch.nn.Module):\n",
    "  def __init__(self, node_features):\n",
    "    super(RecurrentGCN2, self).__init__()\n",
    "    self.recurrent1 = DCRNN(node_features, 32, 1)\n",
    "    self.recurrent2 = DCRNN(32, 32, 1)\n",
    "    self.linear = torch.nn.Linear(32, 1)\n",
    "\n",
    "  def forward(self, x, edge_index, edge_weight):\n",
    "    h = self.recurrent1(x, edge_index, edge_weight)\n",
    "    h = F.relu(h)\n",
    "    h = self.recurrent2(h, edge_index, edge_weight)\n",
    "    h = self.linear(h)\n",
    "    return h"
   ]
  },
  {
   "cell_type": "code",
   "execution_count": null,
   "metadata": {
    "id": "P8IqKutW2Y9H"
   },
   "outputs": [],
   "source": [
    "# DCRNN with 3 layer\n",
    "class RecurrentGCN3(torch.nn.Module):\n",
    "  def __init__(self, node_features):\n",
    "    super(RecurrentGCN3, self).__init__()\n",
    "    self.recurrent1 = DCRNN(node_features, 32, 1)\n",
    "    self.recurrent2 = DCRNN(32, 32, 1)\n",
    "    self.recurrent3 = DCRNN(32, 32, 1)\n",
    "    self.linear = torch.nn.Linear(32, 1)\n",
    "\n",
    "  def forward(self, x, edge_index, edge_weight):\n",
    "    h = self.recurrent1(x, edge_index, edge_weight)\n",
    "    h = F.relu(h)\n",
    "    h = self.recurrent2(h, edge_index, edge_weight)\n",
    "    h = F.relu(h)\n",
    "    h = self.recurrent3(h, edge_index, edge_weight)\n",
    "    h = F.relu(h)\n",
    "    h = self.linear(h)\n",
    "    return h"
   ]
  },
  {
   "cell_type": "code",
   "execution_count": null,
   "metadata": {
    "id": "wMw_4D9ZMRbk"
   },
   "outputs": [],
   "source": [
    "from torch_geometric_temporal.nn.recurrent import GConvGRU\n",
    "\n",
    "# GCGRU with 1 layer\n",
    "class GCGRU(torch.nn.Module):\n",
    "  def __init__(self, node_features):\n",
    "    super(GCGRU, self).__init__()\n",
    "    self.recurrent = GConvGRU(node_features, 32, 1)\n",
    "    self.linear = torch.nn.Linear(32, 1)\n",
    "\n",
    "  def forward(self, x, edge_index, edge_weight):\n",
    "    h = self.recurrent(x, edge_index, edge_weight)\n",
    "    h = F.relu(h)\n",
    "    h = self.linear(h)\n",
    "    return h"
   ]
  },
  {
   "cell_type": "code",
   "execution_count": null,
   "metadata": {
    "id": "6RXbcc_WY4IM"
   },
   "outputs": [],
   "source": [
    "# GCGRU with 2 layers\n",
    "class GCGRU2(torch.nn.Module):\n",
    "  def __init__(self, node_features):\n",
    "    super(GCGRU2, self).__init__()\n",
    "    self.recurrent1 = GConvGRU(node_features, 32, 1)\n",
    "    self.recurrent2 = GConvGRU(32, 32, 1)\n",
    "    self.linear = torch.nn.Linear(32, 1)\n",
    "\n",
    "  def forward(self, x, edge_index, edge_weight):\n",
    "    h = self.recurrent1(x, edge_index, edge_weight)\n",
    "    h = F.relu(h)\n",
    "    h = self.recurrent2(h, edge_index, edge_weight)\n",
    "    h = F.relu(h)\n",
    "    h = self.linear(h)\n",
    "    return h"
   ]
  },
  {
   "cell_type": "code",
   "execution_count": null,
   "metadata": {
    "id": "ZaPrpl7QbkiM"
   },
   "outputs": [],
   "source": [
    "# GCGRU with 3 layers\n",
    "class GCGRU3(torch.nn.Module):\n",
    "  def __init__(self, node_features):\n",
    "    super(GCGRU3, self).__init__()\n",
    "    self.recurrent1 = GConvGRU(node_features, 32, 1)\n",
    "    self.recurrent2 = GConvGRU(32, 32, 1)\n",
    "    self.recurrent3 = GConvGRU(32, 32, 1)\n",
    "    self.linear = torch.nn.Linear(32, 1)\n",
    "\n",
    "  def forward(self, x, edge_index, edge_weight):\n",
    "    h = self.recurrent1(x, edge_index, edge_weight)\n",
    "    h = F.relu(h)\n",
    "    h = self.recurrent2(h, edge_index, edge_weight)\n",
    "    h = F.relu(h)\n",
    "    h = self.recurrent3(h, edge_index, edge_weight)\n",
    "    h = F.relu(h)\n",
    "    h = self.linear(h)\n",
    "    return h"
   ]
  },
  {
   "cell_type": "markdown",
   "metadata": {
    "id": "SiHKQ1_TaIgg"
   },
   "source": [
    "## Setting up the Models - Prepare to Train\n",
    "The code in the below block sets up the model that will be trained in a later block.\n",
    "\n",
    "### Varying the Architecture\n",
    "To change the architecture upon which you train the model, change the first line in the below block to run on the desired architecture declared in the classes above."
   ]
  },
  {
   "cell_type": "code",
   "execution_count": null,
   "metadata": {
    "id": "7oo7NT08pUoD"
   },
   "outputs": [],
   "source": [
    "model = RecurrentGCN(node_features = 5).to(device) # Change this line to run a different model\n",
    "optimizer = torch.optim.Adam(model.parameters(), lr=0.01)\n",
    "model.train()\n",
    "\n",
    "def MSEloss(y_hat, y):\n",
    "  '''Computes mean squared error loss on tensors'''\n",
    "  return torch.mean((y_hat-y.to(device))**2)\n",
    "\n",
    "def test_eval(test_data):\n",
    "  '''Evaluates the testing set based on current state of model\n",
    "  Returns the r2 value of the testing data evaluated on the model\n",
    "  '''\n",
    "  preds = []\n",
    "  gt = []\n",
    "  for test_sig in test_data:\n",
    "    y_hat = 0\n",
    "    y = 0\n",
    "    for time, snapshot in enumerate(test_sig):\n",
    "      y_hat = model(snapshot.x.to(device), snapshot.edge_index.to(device), snapshot.edge_attr.to(device))\n",
    "      y = snapshot.y\n",
    "\n",
    "    preds.append(y_hat.cpu().detach().numpy().reshape(-1, 1)[-1])\n",
    "    gt.append(y.detach().numpy())\n",
    "\n",
    "  return r2_score(gt, preds)\n",
    "\n",
    "def train_one_batch(train_signal):\n",
    "  '''\n",
    "  Trains one epoch of the training procedure for one signal\n",
    "  Args:\n",
    "  -----\n",
    "  train_signal: Signal object\n",
    "    - Signal object from Pytorch Geometric Temporal\n",
    "  '''\n",
    "  cost = 0\n",
    "  y_hat = 0\n",
    "  y = 0\n",
    "  # Need to run the entire algorithm, compute prediction at end\n",
    "  for time, snapshot in enumerate(train_signal):\n",
    "    y_hat = model(snapshot.x.to(device), snapshot.edge_index.to(device), snapshot.edge_attr.to(device))\n",
    "    y = snapshot.y.to(device)\n",
    "\n",
    "  # Compute cost once at end (many-to-one task):\n",
    "  cost = MSEloss(y_hat, y)\n",
    "  cost.backward()\n",
    "\n",
    "  # Optimizer steps:\n",
    "  optimizer.step()\n",
    "  optimizer.zero_grad()\n",
    "  return cost\n",
    "\n",
    "def train(train_data, epochs = 100):\n",
    "  '''\n",
    "  Trains the model\n",
    "  - Function currently does not perform batching, goes one-by-one for signals\n",
    "\n",
    "  train_data: list of Data Signals\n",
    "    - One signal for each sample\n",
    "  '''\n",
    "\n",
    "  train_loss = []\n",
    "  train_acc = []\n",
    "  test_acc = []\n",
    "\n",
    "  for epoch in tqdm.tqdm(range(epochs)):\n",
    "    cost_total = 0\n",
    "    for train_sig in train_data:\n",
    "      cost = train_one_batch(train_sig)\n",
    "      cost_total = cost_total + cost\n",
    "\n",
    "    cost_total /= len(train_data) # Gets average cost over all samples\n",
    "    train_loss.append(cost_total)\n",
    "\n",
    "    te_acc = test_eval(val_dataset) # Get accuracy after the epoch\n",
    "    tr_acc = test_eval(train_dataset)\n",
    "\n",
    "    train_acc.append(tr_acc)\n",
    "    test_acc.append(te_acc)\n",
    "\n",
    "  return train_loss, train_acc, test_acc\n"
   ]
  },
  {
   "cell_type": "markdown",
   "metadata": {
    "id": "wBliMgRncGM1"
   },
   "source": [
    "## Training the model\n",
    "The below block actually trains the model that you declared in the above block."
   ]
  },
  {
   "cell_type": "code",
   "execution_count": null,
   "metadata": {
    "colab": {
     "base_uri": "https://localhost:8080/",
     "height": 298
    },
    "id": "2iwyusaAuyyI",
    "outputId": "95bc41c0-8020-4827-812e-0578718843d4"
   },
   "outputs": [
    {
     "name": "stderr",
     "output_type": "stream",
     "text": [
      "100%|██████████| 10/10 [2:00:35<00:00, 723.54s/it]\n"
     ]
    },
    {
     "data": {
      "image/png": "[encoded data removed]",
      "text/plain": [
       "<Figure size 432x288 with 1 Axes>"
      ]
     },
     "metadata": {
      "needs_background": "light",
      "tags": []
     },
     "output_type": "display_data"
    }
   ],
   "source": [
    "import matplotlib.pyplot as plt\n",
    "import pandas as pd\n",
    "\n",
    "# Performs the actual training\n",
    "tr_loss, tr_acc, te_acc = train(train_dataset, epochs = 10)\n",
    "x = list(range(len(tr_loss)))\n",
    "\n",
    "# Saves results to CSV file in local directory:\n",
    "results = pd.DataFrame({'Train_Acc':tr_acc, 'Test_Acc':te_acc, 'Train_Loss':tr_loss})\n",
    "results['model'] = ['RecurrentGCN 1 Layer'] + [None] * (len(tr_loss) - 1)\n",
    "results.to_csv('RecGCN_1_Layer.csv', index = False)\n",
    "\n",
    "# Plot the accuracy curves\n",
    "plt.plot(x, tr_acc, label = 'Train R^2')\n",
    "plt.plot(x, te_acc, label = 'Test R^2')\n",
    "plt.title('Coef. of Determination Scores')\n",
    "plt.legend()\n",
    "plt.show()"
   ]
  }
 ],
 "metadata": {
  "accelerator": "GPU",
  "colab": {
   "collapsed_sections": [],
   "name": "stconv_abm.ipynb",
   "provenance": [],
   "toc_visible": true
  },
  "kernelspec": {
   "display_name": "Python 3",
   "language": "python",
   "name": "python3"
  },
  "language_info": {
   "codemirror_mode": {
    "name": "ipython",
    "version": 3
   },
   "file_extension": ".py",
   "mimetype": "text/x-python",
   "name": "python",
   "nbconvert_exporter": "python",
   "pygments_lexer": "ipython3",
   "version": "3.8.5"
  }
 },
 "nbformat": 4,
 "nbformat_minor": 1
}