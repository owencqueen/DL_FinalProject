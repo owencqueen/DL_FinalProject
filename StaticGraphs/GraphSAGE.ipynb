{
  "nbformat": 4,
  "nbformat_minor": 0,
  "metadata": {
    "colab": {
      "name": "GraphSAGE.ipynb",
      "provenance": [],
      "collapsed_sections": [],
      "toc_visible": true
    },
    "kernelspec": {
      "display_name": "Python 3",
      "language": "python",
      "name": "python3"
    },
    "language_info": {
      "codemirror_mode": {
        "name": "ipython",
        "version": 3
      },
      "file_extension": ".py",
      "mimetype": "text/x-python",
      "name": "python",
      "nbconvert_exporter": "python",
      "pygments_lexer": "ipython3",
      "version": "3.8.5"
    },
    "accelerator": "GPU"
  },
  "cells": [
    {
      "cell_type": "markdown",
      "metadata": {
        "id": "0uG7eLbcsw5u"
      },
      "source": [
        "# Static Graph Predictions - Graph Convolutional Networks\n",
        "This notebook demonstrates the loading of data from the synethetic dataset into tensors that are then used in Pytorch Geometric. We then perform predictions on the final proportion of Heroin individuals in the models. Each prediction is done on a static graph at a given time step. Please see report for more details.\n",
        "\n",
        "We recommend loading this into Colab to run because the runtime of the GNNs is quite slow without GPUs."
      ]
    },
    {
      "cell_type": "code",
      "metadata": {
        "colab": {
          "base_uri": "https://localhost:8080/"
        },
        "id": "QimP7Zmfwg5W",
        "outputId": "69e3f5c6-fe06-4efc-a035-e3b35c304da1"
      },
      "source": [
        "from google.colab import drive\n",
        "drive.mount('/content/drive/')"
      ],
      "execution_count": null,
      "outputs": [
        {
          "output_type": "stream",
          "text": [
            "Mounted at /content/drive/\n"
          ],
          "name": "stdout"
        }
      ]
    },
    {
      "cell_type": "code",
      "metadata": {
        "colab": {
          "base_uri": "https://localhost:8080/"
        },
        "id": "-zUdvilJNlMh",
        "outputId": "5360fc86-832d-4c38-a452-ee2974a45d6d"
      },
      "source": [
        "!pip install -q torch-scatter -f https://pytorch-geometric.com/whl/torch-1.8.0+cu101.html\n",
        "!pip install -q torch-sparse -f https://pytorch-geometric.com/whl/torch-1.8.0+cu101.html\n",
        "!pip install -q torch-geometric"
      ],
      "execution_count": null,
      "outputs": [
        {
          "output_type": "stream",
          "text": [
            "\u001b[K     |████████████████████████████████| 2.6MB 24.1MB/s \n",
            "\u001b[K     |████████████████████████████████| 1.5MB 31.5MB/s \n",
            "\u001b[K     |████████████████████████████████| 215kB 21.6MB/s \n",
            "\u001b[K     |████████████████████████████████| 235kB 45.7MB/s \n",
            "\u001b[K     |████████████████████████████████| 2.2MB 35.0MB/s \n",
            "\u001b[K     |████████████████████████████████| 51kB 7.0MB/s \n",
            "\u001b[?25h  Building wheel for torch-geometric (setup.py) ... \u001b[?25l\u001b[?25hdone\n"
          ],
          "name": "stdout"
        }
      ]
    },
    {
      "cell_type": "code",
      "metadata": {
        "id": "xITbaAVCss6j"
      },
      "source": [
        "import sys, os\n",
        "import numpy as np\n",
        "from collections import Counter\n",
        "import warnings\n",
        "\n",
        "import torch \n",
        "import torch.nn as nn\n",
        "import torch.optim as optim\n",
        "from torch.nn import Linear\n",
        "import torch.nn.functional as F\n",
        "\n",
        "from torch_geometric.data import Data, GraphSAINTRandomWalkSampler, DataLoader, Dataset\n",
        "from torch_geometric.datasets import Planetoid, Entities\n",
        "from torch_geometric.nn import GCNConv, RGCNConv, GATConv, SAGEConv, JumpingKnowledge, GINConv, DeepGraphInfomax, global_mean_pool\n",
        "from torch_geometric.utils.convert import from_networkx, to_networkx\n",
        "\n",
        "from sklearn.model_selection import train_test_split\n",
        "from sklearn.metrics import r2_score\n",
        "\n",
        "# To load in the data from pickles:\n",
        "import pickle, os\n",
        "import pandas as pd\n",
        "import networkx as nx\n",
        "\n",
        "import matplotlib.pyplot as plt"
      ],
      "execution_count": null,
      "outputs": []
    },
    {
      "cell_type": "code",
      "metadata": {
        "id": "6gzcvesps2hP",
        "colab": {
          "base_uri": "https://localhost:8080/"
        },
        "outputId": "d839bab7-c38d-4bea-a08e-caff0646770e"
      },
      "source": [
        "class Hyperparameters():\n",
        "  def __init__(self):\n",
        "    self.num_node_features = None\n",
        "    self.num_classes = None\n",
        "    self.lr = 0.005\n",
        "    self.w_decay = 5e-4   \n",
        "    self.dropout = 0.3\n",
        "    self.epochs = 200                \n",
        "    self.cuda = True                \n",
        "    self.device  =  None \n",
        "    self.batch_size = 32 \n",
        "\n",
        "args = Hyperparameters()\n",
        "args.cuda = torch.cuda.is_available() \n",
        "if args.cuda:\n",
        "    args.device = torch.device('cuda:0') # Change device here \n",
        "else:\n",
        "    args.device = torch.device('cpu')\n",
        "    \n",
        "print(args.device)"
      ],
      "execution_count": null,
      "outputs": [
        {
          "output_type": "stream",
          "text": [
            "cuda:0\n"
          ],
          "name": "stdout"
        }
      ]
    },
    {
      "cell_type": "code",
      "metadata": {
        "id": "lZznk0alNgqR"
      },
      "source": [
        "nx_objects = pickle.load(open('Data/net_1000.pickle', 'rb'))"
      ],
      "execution_count": null,
      "outputs": []
    },
    {
      "cell_type": "code",
      "metadata": {
        "id": "h53_hGt9NgqR"
      },
      "source": [
        "# Loading data:\n",
        "group_to_onehot = {\n",
        "    'S': (1, 0, 0, 0, 0),\n",
        "    'P': (0, 1, 0, 0, 0),\n",
        "    'A': (0, 0, 1, 0, 0),\n",
        "    'H': (0, 0, 0, 1, 0),\n",
        "    'R': (0, 0, 0, 0, 1)\n",
        "}\n",
        "\n",
        "# Gets final proportions of individuals in the graph with a given group\n",
        "def get_ending_proportions(obj_list, group = 'H'):\n",
        "  prop_list = []\n",
        "  for i in range(len(obj_list)):\n",
        "    subl = obj_list[i]\n",
        "    group_last = nx.get_node_attributes(subl[-1], 'group')\n",
        "    group_count = dict(Counter(group_last.values()))\n",
        "    prop_list.append(group_count[group_to_onehot[group]] / subl[-1].number_of_nodes())\n",
        "  return prop_list\n",
        "    \n",
        "end_prop = get_ending_proportions(nx_objects)\n",
        "Y = end_prop # Set Y value (can be anything)"
      ],
      "execution_count": null,
      "outputs": []
    },
    {
      "cell_type": "code",
      "metadata": {
        "id": "0JitPzs-NgqS"
      },
      "source": [
        "# Functions to get initial graphs:\n",
        "\n",
        "def conv_to_undirected(edges):\n",
        "  undirected_edges = list(edges)\n",
        "  for e in edges:\n",
        "    undirected_edges.append([e[1], e[0]])\n",
        "  return undirected_edges\n",
        "\n",
        "\n",
        "def get_X_static(tstep = 0):\n",
        "  '''\n",
        "  Gets the X for one network in a series\n",
        "  Arguments:\n",
        "  ----------\n",
        "  tstep: integer\n",
        "  '''\n",
        "\n",
        "  X = []\n",
        "\n",
        "  for i in range(0, len(nx_objects)):\n",
        "    edge_list = conv_to_undirected(nx_objects[i][tstep].edges)\n",
        "    edge_index = torch.tensor(edge_list, dtype=torch.long).to(args.device)\n",
        "    node_attr = dict(nx.get_node_attributes(nx_objects[i][tstep], 'group'))\n",
        "    # Order the node attributes:\n",
        "    x = torch.tensor(\n",
        "        [node_attr[i] \n",
        "        for i in range(len(nx_objects[i][tstep].nodes))], dtype = torch.float\n",
        "    ).to(args.device)\n",
        "    d = Data(x=x, edge_index=edge_index.t().contiguous())\n",
        "    X.append([d, Y[i]])\n",
        "\n",
        "  return X\n",
        "\n",
        "def train_val_split(dataset, X, val_split = 0.25):\n",
        "  '''Split data into train-validation split'''\n",
        "\n",
        "  train_ind, val_ind = train_test_split(list(range(len(dataset))), test_size = val_split)\n",
        "  train = [X[t] for t in train_ind]\n",
        "  val = [X[v] for v in val_ind]\n",
        "\n",
        "  # Puts all training and val data in a DataLoader wrapper\n",
        "  train_dataset = DataLoader(train, batch_size = 64, shuffle = True)\n",
        "  val_dataset = DataLoader(val, batch_size = 64, shuffle = False)\n",
        "  return train_dataset, val_dataset"
      ],
      "execution_count": null,
      "outputs": []
    },
    {
      "cell_type": "code",
      "metadata": {
        "colab": {
          "base_uri": "https://localhost:8080/"
        },
        "id": "EHwL3xpONgqS",
        "outputId": "e4d37abf-e0a1-4542-89dd-c9ffcc645028"
      },
      "source": [
        "time_step = 95 # Which time step to evaluate\n",
        "\n",
        "X_full = get_X_static(tstep = time_step)\n",
        "print('Number of samples', len(X_full))\n",
        "\n",
        "dataset = X_full\n",
        "train_dataset, val_dataset = train_val_split(dataset, X_full, val_split = 0.25)"
      ],
      "execution_count": null,
      "outputs": [
        {
          "output_type": "stream",
          "text": [
            "Number of samples 1000\n"
          ],
          "name": "stdout"
        }
      ]
    },
    {
      "cell_type": "markdown",
      "metadata": {
        "id": "ERomzYAJgbyL"
      },
      "source": [
        "## Define the Models\n",
        "Define each of the GNN architectures to use. Each architecture varies the number of convolutional layers. \n",
        "\n",
        "**Terminology:**\n",
        "- Hidden channels: number of dimensions for embedding vectors within the message-passing layers."
      ]
    },
    {
      "cell_type": "code",
      "metadata": {
        "id": "Y2QOiViEaRo8"
      },
      "source": [
        "class SAGE(torch.nn.Module):\n",
        "    def __init__(self, hidden_channels):\n",
        "        super(SAGE, self).__init__()\n",
        "        self.conv1 = SAGEConv(5, hidden_channels)\n",
        "        self.lin = Linear(hidden_channels, 1) # One value in output\n",
        "        self.sig = nn.Sigmoid()\n",
        "\n",
        "    def forward(self, x, edge_index, batch):\n",
        "        x = self.conv1(x, edge_index)\n",
        "        x = x.relu()\n",
        "        x = global_mean_pool(x, batch)  # [batch_size, hidden_channels]\n",
        "        x = F.dropout(x, p=0.25, training=self.training)\n",
        "        x = self.lin(x)\n",
        "        \n",
        "        return x\n",
        "\n",
        "gnn_description = 'SAGE Conv 1 layers, 64 hidden channels each, drop=0.25'\n",
        "gcn_no = 1"
      ],
      "execution_count": null,
      "outputs": []
    },
    {
      "cell_type": "markdown",
      "metadata": {
        "id": "S-hkvpAS1XqE"
      },
      "source": [
        "## Training the Models\n",
        "In the below block, we train a defined model with the given hyperparameters, plotting an accuracy curve upon completion."
      ]
    },
    {
      "cell_type": "code",
      "metadata": {
        "colab": {
          "base_uri": "https://localhost:8080/",
          "height": 1000
        },
        "id": "Ww7Ox8q78hSO",
        "outputId": "bc91f3ef-2a0e-40a3-9173-7680636f07d8"
      },
      "source": [
        "with warnings.catch_warnings():\n",
        "  warnings.simplefilter(\"ignore\")\n",
        "  hc = 256 # Number of hidden channels\n",
        "  model = SAGE(hidden_channels=hc).to(device=args.device)\n",
        "  learn_r = 0.01 # Learning rate\n",
        "  optimizer = torch.optim.Adam(model.parameters(), lr=learn_r)\n",
        "  criterion = torch.nn.MSELoss()\n",
        "\n",
        "  epochs = 100\n",
        "\n",
        "  def train():\n",
        "    '''Trains the model'''\n",
        "    #lets pytorch know model is in training mode\n",
        "    model.train()\n",
        "\n",
        "    for Xdata, Ydata in train_dataset:  # Iterate in batches over the training dataset.\n",
        "      #print('Epoch', i)\n",
        "      #print(data)\n",
        "      out = model(Xdata.x.to(args.device), Xdata.edge_index.to(args.device), Xdata.batch.to(args.device))  # Perform a single forward pass.\n",
        "      loss = criterion(out, Ydata.to(args.device))  # Compute the loss.\n",
        "      loss.backward()  # Derive gradients.\n",
        "      optimizer.step()  # Update parameters based on gradients.\n",
        "      optimizer.zero_grad()  # Clear gradients.\n",
        "\n",
        "  def test(loader):\n",
        "    \"\"\" Tests model\"\"\"\n",
        "    #lets pytorch know model is in evaluation mode\n",
        "    model.eval()\n",
        "\n",
        "    preds = []\n",
        "    gt = []\n",
        "    for Xdata, Ydata in loader:  # Iterate in batches over the training/test dataset.\n",
        "      pred = model(Xdata.x.to(args.device), Xdata.edge_index.to(args.device), Xdata.batch.to(args.device)) \n",
        "      preds.append(pred.cpu().detach().numpy())\n",
        "      gt.append(Ydata.detach().numpy())\n",
        "\n",
        "    return r2_score(np.concatenate(gt), np.concatenate(preds))\n",
        "\n",
        "  train_curve = []\n",
        "  test_curve = []\n",
        "  for epoch in range(0, epochs):\n",
        "    train()\n",
        "    train_acc = test(train_dataset)\n",
        "    train_curve.append(train_acc)\n",
        "    test_acc = test(val_dataset)\n",
        "    test_curve.append(test_acc)\n",
        "    print(f'Epoch: {epoch:03d}, Train R^2: {train_acc:.4f}, Test R^2: {test_acc:.4f}')\n",
        "\n",
        "results = pd.DataFrame({'train_results':train_curve, 'test_curve':test_curve})\n",
        "results['model'] = [gnn_description] + [None] * (len(train_curve) - 1)\n",
        "#results.to_csv(f'sage_lr={learn_r}_curves_t={time_step}.csv', index = False)\n",
        "\n",
        "plt.figure(figsize=(10, 8), dpi = 100)\n",
        "plt.plot(list(range(epochs)), train_curve, label = 'Training R^2')\n",
        "plt.plot(list(range(epochs)), test_curve, label = 'Testing R^2')\n",
        "plt.legend()\n",
        "plt.title('SAGE {} - $R^2$ Predicting Final H - Time Step = {}'.format(gcn_no, time_step))\n",
        "plt.xlabel('Epochs')\n",
        "plt.ylabel('$R^2$')\n",
        "plt.show()"
      ],
      "execution_count": null,
      "outputs": [
        {
          "output_type": "stream",
          "text": [
            "Epoch: 000, Train R^2: -1.1811, Test R^2: -1.3829\n",
            "Epoch: 001, Train R^2: -0.2985, Test R^2: -0.3568\n",
            "Epoch: 002, Train R^2: 0.0358, Test R^2: 0.0288\n",
            "Epoch: 003, Train R^2: -0.0059, Test R^2: -0.0407\n",
            "Epoch: 004, Train R^2: 0.0139, Test R^2: -0.0041\n",
            "Epoch: 005, Train R^2: -0.0047, Test R^2: 0.0015\n",
            "Epoch: 006, Train R^2: 0.0073, Test R^2: 0.0184\n",
            "Epoch: 007, Train R^2: 0.0196, Test R^2: 0.0298\n",
            "Epoch: 008, Train R^2: -0.0453, Test R^2: -0.0328\n",
            "Epoch: 009, Train R^2: 0.0137, Test R^2: 0.0151\n",
            "Epoch: 010, Train R^2: 0.0009, Test R^2: -0.0027\n",
            "Epoch: 011, Train R^2: 0.0038, Test R^2: 0.0095\n",
            "Epoch: 012, Train R^2: -0.0688, Test R^2: -0.0593\n",
            "Epoch: 013, Train R^2: -0.0006, Test R^2: 0.0090\n",
            "Epoch: 014, Train R^2: -0.0243, Test R^2: -0.0499\n",
            "Epoch: 015, Train R^2: -0.0613, Test R^2: -0.0818\n",
            "Epoch: 016, Train R^2: -0.0298, Test R^2: -0.0344\n",
            "Epoch: 017, Train R^2: 0.0175, Test R^2: 0.0279\n",
            "Epoch: 018, Train R^2: 0.0163, Test R^2: 0.0262\n",
            "Epoch: 019, Train R^2: -0.0497, Test R^2: -0.0412\n",
            "Epoch: 020, Train R^2: -0.0560, Test R^2: -0.0726\n",
            "Epoch: 021, Train R^2: 0.0438, Test R^2: 0.0449\n",
            "Epoch: 022, Train R^2: -0.0462, Test R^2: -0.0361\n",
            "Epoch: 023, Train R^2: -0.0065, Test R^2: -0.0178\n",
            "Epoch: 024, Train R^2: -0.0766, Test R^2: -0.1055\n",
            "Epoch: 025, Train R^2: 0.0308, Test R^2: 0.0396\n",
            "Epoch: 026, Train R^2: 0.0336, Test R^2: 0.0274\n",
            "Epoch: 027, Train R^2: -0.1117, Test R^2: -0.1023\n",
            "Epoch: 028, Train R^2: -0.0667, Test R^2: -0.0588\n",
            "Epoch: 029, Train R^2: -0.0358, Test R^2: -0.0294\n",
            "Epoch: 030, Train R^2: -0.0499, Test R^2: -0.0739\n",
            "Epoch: 031, Train R^2: -0.2315, Test R^2: -0.3043\n",
            "Epoch: 032, Train R^2: -0.1007, Test R^2: -0.1314\n",
            "Epoch: 033, Train R^2: -0.0229, Test R^2: -0.0265\n",
            "Epoch: 034, Train R^2: -0.0066, Test R^2: -0.0043\n",
            "Epoch: 035, Train R^2: 0.0458, Test R^2: 0.0422\n",
            "Epoch: 036, Train R^2: -0.0116, Test R^2: -0.0087\n",
            "Epoch: 037, Train R^2: -0.0574, Test R^2: -0.0523\n",
            "Epoch: 038, Train R^2: -0.2201, Test R^2: -0.2168\n",
            "Epoch: 039, Train R^2: -0.0455, Test R^2: -0.0396\n",
            "Epoch: 040, Train R^2: -0.0447, Test R^2: -0.0428\n",
            "Epoch: 041, Train R^2: 0.0238, Test R^2: 0.0226\n",
            "Epoch: 042, Train R^2: 0.0226, Test R^2: 0.0185\n",
            "Epoch: 043, Train R^2: 0.0208, Test R^2: 0.0180\n",
            "Epoch: 044, Train R^2: 0.0338, Test R^2: 0.0313\n",
            "Epoch: 045, Train R^2: 0.0207, Test R^2: 0.0207\n",
            "Epoch: 046, Train R^2: 0.0439, Test R^2: 0.0404\n",
            "Epoch: 047, Train R^2: 0.0129, Test R^2: 0.0113\n",
            "Epoch: 048, Train R^2: 0.0165, Test R^2: 0.0101\n",
            "Epoch: 049, Train R^2: 0.0011, Test R^2: 0.0018\n",
            "Epoch: 050, Train R^2: 0.0145, Test R^2: 0.0121\n",
            "Epoch: 051, Train R^2: 0.0043, Test R^2: 0.0046\n",
            "Epoch: 052, Train R^2: 0.0255, Test R^2: 0.0269\n",
            "Epoch: 053, Train R^2: -0.0950, Test R^2: -0.0920\n",
            "Epoch: 054, Train R^2: -0.0245, Test R^2: -0.0209\n",
            "Epoch: 055, Train R^2: -0.0089, Test R^2: -0.0038\n",
            "Epoch: 056, Train R^2: 0.0405, Test R^2: 0.0420\n",
            "Epoch: 057, Train R^2: 0.0098, Test R^2: 0.0080\n",
            "Epoch: 058, Train R^2: 0.0079, Test R^2: 0.0064\n",
            "Epoch: 059, Train R^2: 0.0230, Test R^2: 0.0059\n",
            "Epoch: 060, Train R^2: 0.0490, Test R^2: 0.0418\n",
            "Epoch: 061, Train R^2: 0.0382, Test R^2: 0.0328\n",
            "Epoch: 062, Train R^2: -0.0113, Test R^2: -0.0272\n",
            "Epoch: 063, Train R^2: 0.0257, Test R^2: 0.0129\n",
            "Epoch: 064, Train R^2: 0.0190, Test R^2: 0.0092\n",
            "Epoch: 065, Train R^2: 0.0042, Test R^2: 0.0058\n",
            "Epoch: 066, Train R^2: -0.0408, Test R^2: -0.0619\n",
            "Epoch: 067, Train R^2: -0.0109, Test R^2: -0.0295\n",
            "Epoch: 068, Train R^2: -0.0246, Test R^2: -0.0436\n",
            "Epoch: 069, Train R^2: 0.0383, Test R^2: 0.0312\n",
            "Epoch: 070, Train R^2: 0.0420, Test R^2: 0.0426\n",
            "Epoch: 071, Train R^2: 0.0424, Test R^2: 0.0349\n",
            "Epoch: 072, Train R^2: 0.0092, Test R^2: 0.0069\n",
            "Epoch: 073, Train R^2: 0.0136, Test R^2: 0.0060\n",
            "Epoch: 074, Train R^2: -0.0527, Test R^2: -0.0864\n",
            "Epoch: 075, Train R^2: 0.0263, Test R^2: 0.0235\n",
            "Epoch: 076, Train R^2: -0.0457, Test R^2: -0.0398\n",
            "Epoch: 077, Train R^2: -0.0206, Test R^2: -0.0347\n",
            "Epoch: 078, Train R^2: 0.0092, Test R^2: 0.0060\n",
            "Epoch: 079, Train R^2: 0.0158, Test R^2: 0.0162\n",
            "Epoch: 080, Train R^2: 0.0268, Test R^2: 0.0179\n",
            "Epoch: 081, Train R^2: 0.0364, Test R^2: 0.0368\n",
            "Epoch: 082, Train R^2: 0.0365, Test R^2: 0.0314\n",
            "Epoch: 083, Train R^2: 0.0381, Test R^2: 0.0351\n",
            "Epoch: 084, Train R^2: 0.0447, Test R^2: 0.0460\n",
            "Epoch: 085, Train R^2: 0.0580, Test R^2: 0.0525\n",
            "Epoch: 086, Train R^2: 0.0419, Test R^2: 0.0418\n",
            "Epoch: 087, Train R^2: 0.0153, Test R^2: 0.0157\n",
            "Epoch: 088, Train R^2: -0.0028, Test R^2: -0.0084\n",
            "Epoch: 089, Train R^2: 0.0193, Test R^2: 0.0211\n",
            "Epoch: 090, Train R^2: 0.0514, Test R^2: 0.0507\n",
            "Epoch: 091, Train R^2: 0.0382, Test R^2: 0.0295\n",
            "Epoch: 092, Train R^2: 0.0098, Test R^2: 0.0126\n",
            "Epoch: 093, Train R^2: 0.0171, Test R^2: 0.0121\n",
            "Epoch: 094, Train R^2: 0.0188, Test R^2: 0.0174\n",
            "Epoch: 095, Train R^2: 0.0161, Test R^2: 0.0103\n",
            "Epoch: 096, Train R^2: 0.0143, Test R^2: 0.0142\n",
            "Epoch: 097, Train R^2: 0.0100, Test R^2: 0.0002\n",
            "Epoch: 098, Train R^2: 0.0259, Test R^2: 0.0261\n",
            "Epoch: 099, Train R^2: 0.0241, Test R^2: 0.0183\n"
          ],
          "name": "stdout"
        },
        {
          "output_type": "display_data",
          "data": {
            "image/png": "[encoded data removed]",
            "text/plain": [
              "<Figure size 1000x800 with 1 Axes>"
            ]
          },
          "metadata": {
            "tags": [],
            "needs_background": "light"
          }
        }
      ]
    }
  ]
}